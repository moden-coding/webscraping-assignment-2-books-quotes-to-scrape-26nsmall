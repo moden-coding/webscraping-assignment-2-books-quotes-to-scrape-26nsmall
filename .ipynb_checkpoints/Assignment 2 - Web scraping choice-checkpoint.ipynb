{
 "cells": [
  {
   "cell_type": "code",
   "execution_count": 2,
   "id": "191ce1eb",
   "metadata": {},
   "outputs": [],
   "source": [
    "# If needed, install packages in your environment (uncomment & run locally):\n",
    "# !pip install requests beautifulsoup4\n",
    "\n",
    "import requests\n",
    "from bs4 import BeautifulSoup"
   ]
  },
  {
   "cell_type": "code",
   "execution_count": 3,
   "id": "e72abab8",
   "metadata": {},
   "outputs": [
    {
     "name": "stdout",
     "output_type": "stream",
     "text": [
      "200\n",
      "<!doctype html>\n",
      "<html lang=\"en\">\n",
      "  <head>\n",
      "    <meta charset=\"utf-8\">\n",
      "    <title>Countries of the World: A Simple Example | Scrape This Site | A public sandbox for learning web scraping</title>\n",
      "    <link rel=\"icon\" type=\"image/png\" href=\"/static/images/scraper-icon.png\" />\n",
      "\n",
      "    <meta name=\"viewport\" content=\"width=device-width, initial-scale=1.0\">\n",
      "    <meta name=\"description\" content=\"A single page that lists information about all the countries in the world. Good for those just get started with w\n"
     ]
    }
   ],
   "source": []
  }
 ],
 "metadata": {
  "kernelspec": {
   "display_name": "Python 3 (ipykernel)",
   "language": "python",
   "name": "python3"
  },
  "language_info": {
   "codemirror_mode": {
    "name": "ipython",
    "version": 3
   },
   "file_extension": ".py",
   "mimetype": "text/x-python",
   "name": "python",
   "nbconvert_exporter": "python",
   "pygments_lexer": "ipython3",
   "version": "3.9.12"
  }
 },
 "nbformat": 4,
 "nbformat_minor": 5
}
