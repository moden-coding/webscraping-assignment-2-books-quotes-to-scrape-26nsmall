{
 "cells": [
  {
   "cell_type": "code",
   "execution_count": 1,
   "id": "191ce1eb",
   "metadata": {},
   "outputs": [],
   "source": [
    "# If needed, install packages in your environment (uncomment & run locally):\n",
    "# !pip install requests beautifulsoup4\n",
    "\n",
    "import requests\n",
    "from bs4 import BeautifulSoup"
   ]
  },
  {
   "cell_type": "code",
   "execution_count": 2,
   "id": "e72abab8",
   "metadata": {},
   "outputs": [],
   "source": [
    "url = \"https://books.toscrape.com/catalogue/page-1.html\"\n",
    "resp = requests.get(url, timeout=20)\n",
    "soup = BeautifulSoup(resp.text, \"html.parser\")"
   ]
  },
  {
   "cell_type": "code",
   "execution_count": 5,
   "id": "736edcf3-fe58-433b-9921-da55b337641d",
   "metadata": {},
   "outputs": [
    {
     "name": "stdout",
     "output_type": "stream",
     "text": [
      "51\n",
      "3\n",
      "0\n",
      "\n",
      "472\n",
      "BooksTravelMysteryHistorical FictionSequential ArtClassicsPhilosophyRomanceWomens FictionFictionChildrensReligionNonfictionMusicDefaultScience FictionSports and GamesAdd a commentFantasyNew AdultYoung AdultSciencePoetryParanormalArtPsychologyAutobiographyParentingAdult FictionHumorHorrorHistoryFood and DrinkChristian FictionBusinessBiographyThrillerContemporarySpiritualityAcademicSelf HelpHistoricalChristianSuspenseShort StoriesNovelsHealthPoliticsCulturalEroticaCrime\n",
      "0\n",
      "\n"
     ]
    }
   ],
   "source": [
    "catagories = soup.find(\"ul\", class_ = \"nav nav-list\")\n",
    "catagories_href = catagories.find_all('a')\n",
    "print(len(catagories_href))\n",
    "print(len(catagories))\n",
    "for catagory in catagories:\n",
    "    catagory_name = catagory.get_text(strip= True)\n",
    "    print(len(catagory_name))\n",
    "    print(catagory_name)"
   ]
  },
  {
   "cell_type": "code",
   "execution_count": null,
   "id": "5db8eaf3-db7c-49c5-a4c2-0b9c53014595",
   "metadata": {},
   "outputs": [],
   "source": []
  },
  {
   "cell_type": "code",
   "execution_count": null,
   "id": "973edf8e-71ac-4f05-b725-b1c2ac15c329",
   "metadata": {},
   "outputs": [],
   "source": []
  },
  {
   "cell_type": "code",
   "execution_count": null,
   "id": "dd99363c-2989-47fa-98fa-8d23d7fe5740",
   "metadata": {},
   "outputs": [],
   "source": []
  }
 ],
 "metadata": {
  "kernelspec": {
   "display_name": "Python [conda env:base] *",
   "language": "python",
   "name": "conda-base-py"
  },
  "language_info": {
   "codemirror_mode": {
    "name": "ipython",
    "version": 3
   },
   "file_extension": ".py",
   "mimetype": "text/x-python",
   "name": "python",
   "nbconvert_exporter": "python",
   "pygments_lexer": "ipython3",
   "version": "3.13.5"
  }
 },
 "nbformat": 4,
 "nbformat_minor": 5
}
